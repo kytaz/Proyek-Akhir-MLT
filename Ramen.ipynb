{
  "nbformat": 4,
  "nbformat_minor": 0,
  "metadata": {
    "colab": {
      "provenance": []
    },
    "kernelspec": {
      "name": "python3",
      "display_name": "Python 3"
    },
    "language_info": {
      "name": "python"
    }
  },
  "cells": [
    {
      "cell_type": "markdown",
      "source": [
        "# Import Library"
      ],
      "metadata": {
        "id": "ydM27DKowNLb"
      }
    },
    {
      "cell_type": "code",
      "execution_count": 83,
      "metadata": {
        "id": "rhDf3XMMwKHn"
      },
      "outputs": [],
      "source": [
        "import pandas as pd\n",
        "import numpy as np\n",
        "import matplotlib.pyplot as plt\n",
        "import seaborn as sns\n",
        "\n",
        "from sklearn.feature_extraction.text import TfidfVectorizer\n",
        "from sklearn.metrics.pairwise import cosine_similarity\n",
        "\n",
        "from sklearn.model_selection import train_test_split\n",
        "from sklearn.metrics import mean_squared_error\n",
        "\n",
        "import warnings\n",
        "warnings.filterwarnings('ignore')"
      ]
    },
    {
      "cell_type": "markdown",
      "source": [
        "# Data Loading"
      ],
      "metadata": {
        "id": "eQLhpFanwb-H"
      }
    },
    {
      "cell_type": "markdown",
      "source": [
        "Langkah ini bertujuan untuk memuat dataset yang diperlukan untuk membangun sistem rekomendasi."
      ],
      "metadata": {
        "id": "0tpPZ3iv-Vdd"
      }
    },
    {
      "cell_type": "code",
      "source": [
        "# Path dataset yang sudah kamu upload ke Colab\n",
        "file_path = '/content/ramen-ratings.csv'"
      ],
      "metadata": {
        "id": "AZ5wRKIbwaYK"
      },
      "execution_count": 3,
      "outputs": []
    },
    {
      "cell_type": "code",
      "source": [
        "# Membaca dataset CSV menggunakan pandas\n",
        "df = pd.read_csv(file_path)"
      ],
      "metadata": {
        "id": "XiSV4n82woYi"
      },
      "execution_count": 4,
      "outputs": []
    },
    {
      "cell_type": "code",
      "source": [
        "# Menampilkan ukuran dataset dan 5 baris pertama sebagai gambaran awal\n",
        "print(\"Ukuran dataset:\", df.shape)\n",
        "print(df.head())"
      ],
      "metadata": {
        "colab": {
          "base_uri": "https://localhost:8080/"
        },
        "id": "-TfFM3cRwqHd",
        "outputId": "5cfafbc6-ad3d-4dc8-9f82-8c3a3157fba5"
      },
      "execution_count": 5,
      "outputs": [
        {
          "output_type": "stream",
          "name": "stdout",
          "text": [
            "Ukuran dataset: (2580, 7)\n",
            "   Review #           Brand  \\\n",
            "0      2580       New Touch   \n",
            "1      2579        Just Way   \n",
            "2      2578          Nissin   \n",
            "3      2577         Wei Lih   \n",
            "4      2576  Ching's Secret   \n",
            "\n",
            "                                             Variety Style Country Stars  \\\n",
            "0                          T's Restaurant Tantanmen    Cup   Japan  3.75   \n",
            "1  Noodles Spicy Hot Sesame Spicy Hot Sesame Guan...  Pack  Taiwan     1   \n",
            "2                      Cup Noodles Chicken Vegetable   Cup     USA  2.25   \n",
            "3                      GGE Ramen Snack Tomato Flavor  Pack  Taiwan  2.75   \n",
            "4                                    Singapore Curry  Pack   India  3.75   \n",
            "\n",
            "  Top Ten  \n",
            "0     NaN  \n",
            "1     NaN  \n",
            "2     NaN  \n",
            "3     NaN  \n",
            "4     NaN  \n"
          ]
        }
      ]
    },
    {
      "cell_type": "markdown",
      "source": [
        "#  Data Understanding."
      ],
      "metadata": {
        "id": "mr-Qk2PBw23G"
      }
    },
    {
      "cell_type": "markdown",
      "source": [
        "Pada tahap ini awal dalam proses analisis data yang bertujuan untuk mengenal dan memahami struktur, tipe, serta kualitas data ramen yang digunakan dalam penelitian. Pada tahap ini, dilakukan pemeriksaan terhadap jumlah data, tipe variabel, serta kelengkapan data termasuk pengecekan nilai yang hilang (missing values)."
      ],
      "metadata": {
        "id": "vbjP6sWyz14J"
      }
    },
    {
      "cell_type": "code",
      "source": [
        "# Menampilkan info struktur dataset (tipe data dan non-null count)\n",
        "print(\"Info dataset:\")\n",
        "print(df.info())"
      ],
      "metadata": {
        "colab": {
          "base_uri": "https://localhost:8080/"
        },
        "id": "IrTwOBdTw4Ip",
        "outputId": "25a19628-cc1c-46e0-ccd9-8b80144ab2d3"
      },
      "execution_count": 6,
      "outputs": [
        {
          "output_type": "stream",
          "name": "stdout",
          "text": [
            "Info dataset:\n",
            "<class 'pandas.core.frame.DataFrame'>\n",
            "RangeIndex: 2580 entries, 0 to 2579\n",
            "Data columns (total 7 columns):\n",
            " #   Column    Non-Null Count  Dtype \n",
            "---  ------    --------------  ----- \n",
            " 0   Review #  2580 non-null   int64 \n",
            " 1   Brand     2580 non-null   object\n",
            " 2   Variety   2580 non-null   object\n",
            " 3   Style     2578 non-null   object\n",
            " 4   Country   2580 non-null   object\n",
            " 5   Stars     2580 non-null   object\n",
            " 6   Top Ten   41 non-null     object\n",
            "dtypes: int64(1), object(6)\n",
            "memory usage: 141.2+ KB\n",
            "None\n"
          ]
        }
      ]
    },
    {
      "cell_type": "code",
      "source": [
        "# Menampilkan statistik deskriptif untuk kolom numerik dan kategori\n",
        "print(\"\\nStatistik deskriptif:\")\n",
        "print(df.describe(include='all'))"
      ],
      "metadata": {
        "colab": {
          "base_uri": "https://localhost:8080/"
        },
        "id": "gKllgjrcw-gm",
        "outputId": "95a86bae-faee-42ab-ff78-22b4d12a814c"
      },
      "execution_count": 7,
      "outputs": [
        {
          "output_type": "stream",
          "name": "stdout",
          "text": [
            "\n",
            "Statistik deskriptif:\n",
            "           Review #   Brand  Variety Style Country Stars Top Ten\n",
            "count   2580.000000    2580     2580  2578    2580  2580      41\n",
            "unique          NaN     355     2413     7      38    51      38\n",
            "top             NaN  Nissin  Chicken  Pack   Japan     4      \\n\n",
            "freq            NaN     381        7  1531     352   384       4\n",
            "mean    1290.500000     NaN      NaN   NaN     NaN   NaN     NaN\n",
            "std      744.926171     NaN      NaN   NaN     NaN   NaN     NaN\n",
            "min        1.000000     NaN      NaN   NaN     NaN   NaN     NaN\n",
            "25%      645.750000     NaN      NaN   NaN     NaN   NaN     NaN\n",
            "50%     1290.500000     NaN      NaN   NaN     NaN   NaN     NaN\n",
            "75%     1935.250000     NaN      NaN   NaN     NaN   NaN     NaN\n",
            "max     2580.000000     NaN      NaN   NaN     NaN   NaN     NaN\n"
          ]
        }
      ]
    },
    {
      "cell_type": "code",
      "source": [
        "# Cek missing value di tiap kolom\n",
        "print(\"\\nJumlah missing values per kolom:\")\n",
        "print(df.isnull().sum())"
      ],
      "metadata": {
        "colab": {
          "base_uri": "https://localhost:8080/"
        },
        "id": "NrRzT9qVxt1M",
        "outputId": "b527217b-da26-48bc-94b0-2645e7fa5352"
      },
      "execution_count": 8,
      "outputs": [
        {
          "output_type": "stream",
          "name": "stdout",
          "text": [
            "\n",
            "Jumlah missing values per kolom:\n",
            "Review #       0\n",
            "Brand          0\n",
            "Variety        0\n",
            "Style          2\n",
            "Country        0\n",
            "Stars          0\n",
            "Top Ten     2539\n",
            "dtype: int64\n"
          ]
        }
      ]
    },
    {
      "cell_type": "code",
      "source": [
        "df = df.drop(columns=['Top Ten'])\n",
        "print(\"Kolom 'Top Ten' sudah dihapus.\")"
      ],
      "metadata": {
        "colab": {
          "base_uri": "https://localhost:8080/"
        },
        "id": "8a81HT_uythh",
        "outputId": "c7d4662d-95f0-46b7-bbd7-d3ed3919d47f"
      },
      "execution_count": 11,
      "outputs": [
        {
          "output_type": "stream",
          "name": "stdout",
          "text": [
            "Kolom 'Top Ten' sudah dihapus.\n"
          ]
        }
      ]
    },
    {
      "cell_type": "code",
      "source": [
        "# Ubah 'Stars' ke numeric, dengan errors='coerce' agar nilai yang tidak bisa diubah jadi NaN\n",
        "df['Stars'] = pd.to_numeric(df['Stars'], errors='coerce')\n",
        "\n",
        "# Isi missing di kolom 'Style' dengan 'Unknown'\n",
        "df['Style'] = df['Style'].fillna('Unknown')\n",
        "\n",
        "# Cek kembali jumlah missing setelah perubahan\n",
        "print(\"Missing values setelah preprocessing:\")\n",
        "print(df.isnull().sum())\n"
      ],
      "metadata": {
        "colab": {
          "base_uri": "https://localhost:8080/"
        },
        "id": "NHjJ_UtVyWjv",
        "outputId": "645e5bba-b31a-47c4-8624-30c1e21b1c20"
      },
      "execution_count": 12,
      "outputs": [
        {
          "output_type": "stream",
          "name": "stdout",
          "text": [
            "Missing values setelah preprocessing:\n",
            "Review #    0\n",
            "Brand       0\n",
            "Variety     0\n",
            "Style       0\n",
            "Country     0\n",
            "Stars       0\n",
            "dtype: int64\n"
          ]
        }
      ]
    },
    {
      "cell_type": "code",
      "source": [
        "# Buang baris dengan nilai Stars yang kosong\n",
        "df = df.dropna(subset=['Stars'])\n",
        "\n",
        "# Cek kembali ukuran data setelah drop\n",
        "print(\"Ukuran data setelah menghapus baris tanpa rating:\", df.shape)\n"
      ],
      "metadata": {
        "colab": {
          "base_uri": "https://localhost:8080/"
        },
        "id": "yTGI4m-Sye3P",
        "outputId": "efbce2c7-f032-4ebd-ca35-9f7683cefe32"
      },
      "execution_count": 13,
      "outputs": [
        {
          "output_type": "stream",
          "name": "stdout",
          "text": [
            "Ukuran data setelah menghapus baris tanpa rating: (2577, 6)\n"
          ]
        }
      ]
    },
    {
      "cell_type": "markdown",
      "source": [
        "# Exploratory Data Analysis (EDA)"
      ],
      "metadata": {
        "id": "ruPGvSA7y2Ag"
      }
    },
    {
      "cell_type": "markdown",
      "source": [
        " Melalui tahap ini, dilakukan analisis distribusi rating (Stars) untuk mengetahui sebaran preferensi pengguna terhadap produk ramen. Selain itu, dilakukan identifikasi brand-brand dengan rata-rata rating tertinggi guna memberikan gambaran merek mana yang memiliki kualitas unggul menurut data rating.karakteristik dan pola dalam dataset"
      ],
      "metadata": {
        "id": "Py2DzJ1KzUR2"
      }
    },
    {
      "cell_type": "code",
      "source": [
        "import matplotlib.pyplot as plt\n",
        "import seaborn as sns\n",
        "\n",
        "# Distribusi rating (Stars)\n",
        "plt.figure(figsize=(8,5))\n",
        "sns.countplot(data=df, x='Stars', palette='viridis')\n",
        "plt.title('Distribusi Rating Ramen (Stars)')\n",
        "plt.xlabel('Rating (Stars)')\n",
        "plt.ylabel('Jumlah Data')\n",
        "plt.show()"
      ],
      "metadata": {
        "colab": {
          "base_uri": "https://localhost:8080/",
          "height": 487
        },
        "id": "ZaST3Djky4gF",
        "outputId": "8efdcede-fdd3-4c96-b41f-1a0078dc1574"
      },
      "execution_count": 14,
      "outputs": [
        {
          "output_type": "display_data",
          "data": {
            "text/plain": [
              "<Figure size 800x500 with 1 Axes>"
            ],
            "image/png": "[encoded data removed]"
          },
          "metadata": {}
        }
      ]
    },
    {
      "cell_type": "code",
      "source": [
        "# Rating rata-rata per Brand (top 10 brand dengan rating tertinggi)\n",
        "avg_rating_brand = df.groupby('Brand')['Stars'].mean().sort_values(ascending=False).head(10)\n",
        "\n",
        "plt.figure(figsize=(10,6))\n",
        "sns.barplot(x=avg_rating_brand.values, y=avg_rating_brand.index, palette='magma')\n",
        "plt.title('Top 10 Brand dengan Rating Ramen Tertinggi (Rata-rata)')\n",
        "plt.xlabel('Rata-rata Rating (Stars)')\n",
        "plt.ylabel('Brand')\n",
        "plt.show()\n"
      ],
      "metadata": {
        "colab": {
          "base_uri": "https://localhost:8080/",
          "height": 564
        },
        "id": "7bF_BC1gy_5O",
        "outputId": "8e727297-9956-4603-f2f6-a4d1ab6352c2"
      },
      "execution_count": 16,
      "outputs": [
        {
          "output_type": "display_data",
          "data": {
            "text/plain": [
              "<Figure size 1000x600 with 1 Axes>"
            ],
            "image/png": "[encoded data removed]"
          },
          "metadata": {}
        }
      ]
    },
    {
      "cell_type": "code",
      "source": [
        "print(\"Top 10 Brand dengan Rating Tertinggi:\")\n",
        "print(avg_rating_brand)"
      ],
      "metadata": {
        "colab": {
          "base_uri": "https://localhost:8080/"
        },
        "id": "-_KezRc3zG1z",
        "outputId": "723a37d7-b802-4207-b254-6bc1f403d684"
      },
      "execution_count": 17,
      "outputs": [
        {
          "output_type": "stream",
          "name": "stdout",
          "text": [
            "Top 10 Brand dengan Rating Tertinggi:\n",
            "Brand\n",
            "Plats Du Chef    5.0\n",
            "Peyang           5.0\n",
            "Patanjali        5.0\n",
            "Daifuku          5.0\n",
            "Daddy            5.0\n",
            "ChoripDong       5.0\n",
            "Prima            5.0\n",
            "ORee Garden      5.0\n",
            "MyOri            5.0\n",
            "Seven & I        5.0\n",
            "Name: Stars, dtype: float64\n"
          ]
        }
      ]
    },
    {
      "cell_type": "markdown",
      "source": [
        "# Data Preparation"
      ],
      "metadata": {
        "id": "43aRHBWK0Egk"
      }
    },
    {
      "cell_type": "markdown",
      "source": [
        "Tahap Data Preparation ini memastikan dataset dalam kondisi bersih, lengkap, dan sesuai dengan kebutuhan algoritma rekomendasi yang akan digunakan pada tahap berikutnya, baik content-based maupun collaborative filtering."
      ],
      "metadata": {
        "id": "najChVCJ0GEy"
      }
    },
    {
      "cell_type": "code",
      "source": [
        "# Pastikan Stars sudah numeric dan tidak ada missing\n",
        "print(\"Jumlah missing values pada Stars:\", df['Stars'].isnull().sum())"
      ],
      "metadata": {
        "colab": {
          "base_uri": "https://localhost:8080/"
        },
        "id": "OkNjMPdU0H9w",
        "outputId": "f7aa7bd1-a4d3-485b-b90d-8986933ed0d2"
      },
      "execution_count": 18,
      "outputs": [
        {
          "output_type": "stream",
          "name": "stdout",
          "text": [
            "Jumlah missing values pada Stars: 0\n"
          ]
        }
      ]
    },
    {
      "cell_type": "code",
      "source": [
        "# Isi missing value kolom 'Country' jika ada\n",
        "df['Country'] = df['Country'].fillna('Unknown')"
      ],
      "metadata": {
        "id": "RjA2hDzu03SW"
      },
      "execution_count": 22,
      "outputs": []
    },
    {
      "cell_type": "code",
      "source": [
        "# Cek kolom 'Country' sebagai proxy user\n",
        "print(\"Jumlah data unik Country (sebagai user):\", df['Country'].nunique())"
      ],
      "metadata": {
        "colab": {
          "base_uri": "https://localhost:8080/"
        },
        "id": "RCAFHpf007H9",
        "outputId": "fbd9519b-800b-4e5c-c4a0-78f6e78af56f"
      },
      "execution_count": 23,
      "outputs": [
        {
          "output_type": "stream",
          "name": "stdout",
          "text": [
            "Jumlah data unik Country (sebagai user): 38\n"
          ]
        }
      ]
    },
    {
      "cell_type": "code",
      "source": [
        "# Contoh tampilkan beberapa data\n",
        "print(df[['Country', 'Brand', 'Variety', 'Stars']].head())"
      ],
      "metadata": {
        "colab": {
          "base_uri": "https://localhost:8080/"
        },
        "id": "zImGOvUr0JDK",
        "outputId": "1be3223e-6c0e-4238-c6a7-84b41c164901"
      },
      "execution_count": 24,
      "outputs": [
        {
          "output_type": "stream",
          "name": "stdout",
          "text": [
            "  Country           Brand                                            Variety  \\\n",
            "0   Japan       New Touch                          T's Restaurant Tantanmen    \n",
            "1  Taiwan        Just Way  Noodles Spicy Hot Sesame Spicy Hot Sesame Guan...   \n",
            "2     USA          Nissin                      Cup Noodles Chicken Vegetable   \n",
            "3  Taiwan         Wei Lih                      GGE Ramen Snack Tomato Flavor   \n",
            "4   India  Ching's Secret                                    Singapore Curry   \n",
            "\n",
            "   Stars  \n",
            "0   3.75  \n",
            "1   1.00  \n",
            "2   2.25  \n",
            "3   2.75  \n",
            "4   3.75  \n"
          ]
        }
      ]
    },
    {
      "cell_type": "markdown",
      "source": [
        "# Model Development dengan Content-Based Filtering\n",
        "\n",
        "Pada tahap Model Content-Based Filtering menggunakan TF-IDF untuk merepresentasikan teks ramen dan cosine similarity untuk mengukur kemiripan antar ramen. Fungsi rekomendasi mengembalikan 10 ramen paling mirip berdasarkan kemiripan konten, memudahkan pengguna menemukan ramen serupa tanpa data preferensi pengguna."
      ],
      "metadata": {
        "id": "1ssDR-rx1bFd"
      }
    },
    {
      "cell_type": "markdown",
      "source": [
        "## TF-IDF Vectorizer\n",
        "TF-IDF (Term Frequency-Inverse Document Frequency) digunakan untuk mengubah deskripsi ramen (Variety) menjadi representasi numerik berbobot berdasarkan frekuensi kata penting."
      ],
      "metadata": {
        "id": "SoiIpqXL1nyD"
      }
    },
    {
      "cell_type": "code",
      "source": [
        "from sklearn.feature_extraction.text import TfidfVectorizer\n",
        "\n",
        "# Membuat objek TF-IDF Vectorizer dengan stop words bahasa Inggris\n",
        "tfidf = TfidfVectorizer(stop_words='english')\n",
        "\n",
        "# Terapkan TF-IDF pada kolom 'Variety'\n",
        "tfidf_matrix = tfidf.fit_transform(df['Variety'])\n",
        "\n",
        "# Cek ukuran matriks TF-IDF (baris = jumlah ramen, kolom = fitur kata unik)\n",
        "print(\"Shape TF-IDF matrix:\", tfidf_matrix.shape)\n"
      ],
      "metadata": {
        "colab": {
          "base_uri": "https://localhost:8080/"
        },
        "id": "UC0qPtcV1Suw",
        "outputId": "61db1e3e-4d57-483a-f369-f09f59e0709d"
      },
      "execution_count": 25,
      "outputs": [
        {
          "output_type": "stream",
          "name": "stdout",
          "text": [
            "Shape TF-IDF matrix: (2577, 1387)\n"
          ]
        }
      ]
    },
    {
      "cell_type": "markdown",
      "source": [
        "## Cosine Similarity"
      ],
      "metadata": {
        "id": "Rv1iSdT115LT"
      }
    },
    {
      "cell_type": "markdown",
      "source": [
        "Cosine similarity  menghitung tingkat kemiripan antar ramen berdasarkan representasi TF-IDF."
      ],
      "metadata": {
        "id": "75h8gq6z17DR"
      }
    },
    {
      "cell_type": "code",
      "source": [
        "from sklearn.metrics.pairwise import cosine_similarity\n",
        "\n",
        "# Hitung cosine similarity antar baris TF-IDF matrix\n",
        "cosine_sim = cosine_similarity(tfidf_matrix, tfidf_matrix)\n",
        "\n",
        "# Cek ukuran matrix similarity\n",
        "print(\"Shape cosine similarity matrix:\", cosine_sim.shape)\n"
      ],
      "metadata": {
        "colab": {
          "base_uri": "https://localhost:8080/"
        },
        "id": "MalouWUq131U",
        "outputId": "d3ed7c3f-fc67-46ca-9f81-7942baebcb33"
      },
      "execution_count": 28,
      "outputs": [
        {
          "output_type": "stream",
          "name": "stdout",
          "text": [
            "Shape cosine similarity matrix: (2577, 2577)\n"
          ]
        }
      ]
    },
    {
      "cell_type": "markdown",
      "source": [
        "## Buat Indeks Nama Ramen"
      ],
      "metadata": {
        "id": "sj9aP6gz2Pro"
      }
    },
    {
      "cell_type": "code",
      "source": [
        "print(df['Variety'].unique())\n"
      ],
      "metadata": {
        "colab": {
          "base_uri": "https://localhost:8080/"
        },
        "id": "6ZW759z82iFu",
        "outputId": "bded3564-ee09-4d5b-efeb-0bda3e538cc6"
      },
      "execution_count": 30,
      "outputs": [
        {
          "output_type": "stream",
          "name": "stdout",
          "text": [
            "[\"T's Restaurant Tantanmen \"\n",
            " 'Noodles Spicy Hot Sesame Spicy Hot Sesame Guan-miao Noodles'\n",
            " 'Cup Noodles Chicken Vegetable' ...\n",
            " 'Hu Tiu Nam Vang [\"Phnom Penh\" style] Asian Style Instant\\xa0Rice\\xa0Noodles'\n",
            " 'Oriental Style Instant Noodles' 'Tom Yum Chili Flavor']\n"
          ]
        }
      ]
    },
    {
      "cell_type": "code",
      "source": [
        "print(df['Variety'].head(10))\n"
      ],
      "metadata": {
        "colab": {
          "base_uri": "https://localhost:8080/"
        },
        "id": "vqcwm1jB2ktR",
        "outputId": "685f519f-9215-4bed-e3e2-2774b7a573cd"
      },
      "execution_count": 31,
      "outputs": [
        {
          "output_type": "stream",
          "name": "stdout",
          "text": [
            "0                            T's Restaurant Tantanmen \n",
            "1    Noodles Spicy Hot Sesame Spicy Hot Sesame Guan...\n",
            "2                        Cup Noodles Chicken Vegetable\n",
            "3                        GGE Ramen Snack Tomato Flavor\n",
            "4                                      Singapore Curry\n",
            "5                               Kimchi song Song Ramen\n",
            "6                  Spice Deli Tantan Men With Cilantro\n",
            "7                                Nabeyaki Kitsune Udon\n",
            "8                             Hokkaido Soy Sauce Ramen\n",
            "9                The Original Spicy Stir-Fried Noodles\n",
            "Name: Variety, dtype: object\n"
          ]
        }
      ]
    },
    {
      "cell_type": "code",
      "source": [
        "# Membuat indeks dari kolom 'Variety' untuk pencarian\n",
        "indices = pd.Series(df.index, index=df['Variety']).drop_duplicates()\n",
        "\n",
        "# Contoh cek indeks ramen 'Shin Black'\n",
        "print(\"Indeks ramen 'Singapore Curry':\", indices['Singapore Curry'])\n"
      ],
      "metadata": {
        "colab": {
          "base_uri": "https://localhost:8080/"
        },
        "id": "gNFCVBe82R2y",
        "outputId": "b45e1f93-a3a3-4e06-bae8-30fc02f45914"
      },
      "execution_count": 47,
      "outputs": [
        {
          "output_type": "stream",
          "name": "stdout",
          "text": [
            "Indeks ramen 'Singapore Curry': 4\n"
          ]
        }
      ]
    },
    {
      "cell_type": "code",
      "source": [
        "def recommend_ramen_content_based(title, cosine_sim=cosine_sim, df=df):\n",
        "    indices = pd.Series(df.index, index=df['Variety']).drop_duplicates()\n",
        "\n",
        "    if title not in indices:\n",
        "        return f\"Ramen dengan nama '{title}' tidak ditemukan dalam data.\"\n",
        "\n",
        "    idx = indices[title]\n",
        "\n",
        "    # Ambil baris similarity untuk ramen ini, pastikan 1D array\n",
        "    sim_scores_array = cosine_sim[idx]\n",
        "\n",
        "    # Kalau sim_scores_array bentuknya 2D, flatten dulu\n",
        "    if sim_scores_array.ndim > 1:\n",
        "        sim_scores_array = sim_scores_array.flatten()\n",
        "\n",
        "    # Buat list tuple (index, similarity_score)\n",
        "    sim_scores = list(enumerate(sim_scores_array))\n",
        "\n",
        "    # Sort berdasarkan similarity descending, ambil 10 teratas kecuali diri sendiri\n",
        "    sim_scores = sorted(sim_scores, key=lambda x: x[1], reverse=True)\n",
        "\n",
        "    # Hapus diri sendiri (indeks idx)\n",
        "    sim_scores = [x for x in sim_scores if x[0] != idx]\n",
        "\n",
        "    # Ambil 10 teratas\n",
        "    sim_scores = sim_scores[:10]\n",
        "\n",
        "    ramen_indices = [i[0] for i in sim_scores]\n",
        "\n",
        "    recommended = df.iloc[ramen_indices][['Brand', 'Variety', 'Style', 'Country', 'Stars']]\n",
        "\n",
        "    return recommended.reset_index(drop=True)\n"
      ],
      "metadata": {
        "id": "YGi_CSy63GBC"
      },
      "execution_count": 50,
      "outputs": []
    },
    {
      "cell_type": "code",
      "source": [
        "result = recommend_ramen_content_based('Singapore Curry')\n",
        "print(result)\n"
      ],
      "metadata": {
        "colab": {
          "base_uri": "https://localhost:8080/"
        },
        "id": "QBflZjAc6ESo",
        "outputId": "f724b3bc-ef26-4c82-eb8e-67c33a80be37"
      },
      "execution_count": 66,
      "outputs": [
        {
          "output_type": "stream",
          "name": "stdout",
          "text": [
            "Index ramen 'Singapore Curry': 4\n",
            "Jumlah similarity scores: 2577\n",
            "Contoh similarity scores (index, score): [(0, np.float64(0.0)), (1, np.float64(0.0)), (2, np.float64(0.0)), (3, np.float64(0.0)), (4, np.float64(1.0))]\n",
            "Top 5 similarity scores setelah sorting: [(4, np.float64(1.0)), (1182, np.float64(0.6962549806900238)), (1586, np.float64(0.6451596095908818)), (700, np.float64(0.5811799992346527)), (476, np.float64(0.5672178961682708))]\n",
            "Jumlah similarity scores setelah hapus diri sendiri: 2576\n",
            "Top 10 similarity scores: [(1182, np.float64(0.6962549806900238)), (1586, np.float64(0.6451596095908818)), (700, np.float64(0.5811799992346527)), (476, np.float64(0.5672178961682708)), (2342, np.float64(0.54292325979363)), (671, np.float64(0.534475142593016)), (1590, np.float64(0.5219982299628851)), (1029, np.float64(0.4535452112538629)), (1585, np.float64(0.4361160210589914)), (1857, np.float64(0.43201345551833964))]\n",
            "Indices ramen rekomendasi: [1182, 1586, 700, 476, 2342, 671, 1590, 1029, 1585, 1857]\n",
            "Data rekomendasi:\n",
            "              Brand                               Variety Style    Country  \\\n",
            "1185     Snapdragon       Singapore Laksa Curry Soup Bowl  Bowl        USA   \n",
            "1589    Prima Taste               Singapore Curry La Mian  Pack  Singapore   \n",
            "702           Myojo  Extra Spicy Singapore Curry Big Bowl  Bowl  Singapore   \n",
            "478          Nissin           Cup Noodles Singapore Laksa   Cup      Japan   \n",
            "2345           Koka                                 Curry  Pack  Singapore   \n",
            "673     Prima Taste    Singapore Curry Wholegrain La Mian  Pack  Singapore   \n",
            "1593        Trident                Singapore Soft Noodles  Pack  Australia   \n",
            "1032  Samyang Foods                          Curry Noodle   Cup      Japan   \n",
            "1588    Prima Taste               Singapore Laksa La Mian  Pack  Singapore   \n",
            "1860     Golden Mie                         Chicken Curry  Pack      Dubai   \n",
            "\n",
            "      Stars  \n",
            "1185   4.25  \n",
            "1589   5.00  \n",
            "702    5.00  \n",
            "478    5.00  \n",
            "2345   4.25  \n",
            "673    5.00  \n",
            "1593   2.75  \n",
            "1032   3.75  \n",
            "1588   5.00  \n",
            "1860   3.75  \n",
            "           Brand                               Variety Style    Country  Stars\n",
            "0     Snapdragon       Singapore Laksa Curry Soup Bowl  Bowl        USA   4.25\n",
            "1    Prima Taste               Singapore Curry La Mian  Pack  Singapore   5.00\n",
            "2          Myojo  Extra Spicy Singapore Curry Big Bowl  Bowl  Singapore   5.00\n",
            "3         Nissin           Cup Noodles Singapore Laksa   Cup      Japan   5.00\n",
            "4           Koka                                 Curry  Pack  Singapore   4.25\n",
            "5    Prima Taste    Singapore Curry Wholegrain La Mian  Pack  Singapore   5.00\n",
            "6        Trident                Singapore Soft Noodles  Pack  Australia   2.75\n",
            "7  Samyang Foods                          Curry Noodle   Cup      Japan   3.75\n",
            "8    Prima Taste               Singapore Laksa La Mian  Pack  Singapore   5.00\n",
            "9     Golden Mie                         Chicken Curry  Pack      Dubai   3.75\n"
          ]
        }
      ]
    },
    {
      "cell_type": "markdown",
      "source": [
        "# Model Development dengan Collaborative Filtering"
      ],
      "metadata": {
        "id": "Q7jfv6yg7R6H"
      }
    },
    {
      "cell_type": "markdown",
      "source": [
        "## Membuat matriks user-item\n",
        "\n",
        "Pada tahap ini, kita mengembangkan model rekomendasi dengan pendekatan Collaborative Filtering menggunakan kolom Country sebagai proxy pengguna untuk membuat matriks user-item berdasarkan rating ramen. Kemiripan antar pengguna dihitung dengan cosine similarity, lalu rekomendasi dibuat dengan memanfaatkan preferensi pengguna serupa. Pendekatan ini memungkinkan sistem memprediksi ramen yang disukai pengguna berdasarkan pola rating kolektif dalam data."
      ],
      "metadata": {
        "id": "B7MPNm647fxO"
      }
    },
    {
      "cell_type": "markdown",
      "source": [
        "## Membagi data menjadi training dan testing\n",
        " kita bagi data menjadi training (80%) dan testing (20%) dengan stratified sampling berdasarkan user agar distribusi rating tetap merata.\n"
      ],
      "metadata": {
        "id": "_4pCKDoC7j_R"
      }
    },
    {
      "cell_type": "code",
      "source": [
        "train_data, test_data = train_test_split(df, test_size=0.2, random_state=42, stratify=df['Country_mod'])\n"
      ],
      "metadata": {
        "id": "67an00VV9CrV"
      },
      "execution_count": 76,
      "outputs": []
    },
    {
      "cell_type": "code",
      "source": [
        "# Membuat kolom modifikasi Country\n",
        "country_counts = df['Country'].value_counts()\n",
        "rare_countries = country_counts[country_counts < 2].index.tolist()\n",
        "df['Country_mod'] = df['Country'].apply(lambda x: 'Others' if x in rare_countries else x)\n"
      ],
      "metadata": {
        "id": "iJv5bi_-9E0K"
      },
      "execution_count": 77,
      "outputs": []
    },
    {
      "cell_type": "code",
      "source": [
        "country_counts = df['Country'].value_counts()\n",
        "rare_countries = country_counts[country_counts < 2].index.tolist()\n",
        "df['Country_mod'] = df['Country'].apply(lambda x: 'Others' if x in rare_countries else x)\n",
        "\n",
        "train_data, test_data = train_test_split(df, test_size=0.2, random_state=42, stratify=df['Country_mod'])\n",
        "print(\"Data training shape:\", train_data.shape)\n",
        "print(\"Data testing shape:\", test_data.shape)\n"
      ],
      "metadata": {
        "colab": {
          "base_uri": "https://localhost:8080/"
        },
        "id": "DcuThL9V9Gws",
        "outputId": "bb5609e5-86ce-4ccb-f2a1-222e8188da2f"
      },
      "execution_count": 78,
      "outputs": [
        {
          "output_type": "stream",
          "name": "stdout",
          "text": [
            "Data training shape: (2061, 7)\n",
            "Data testing shape: (516, 7)\n"
          ]
        }
      ]
    },
    {
      "cell_type": "code",
      "source": [
        "# Membuat matriks user-item dari data training\n",
        "train_matrix = train_data.pivot_table(index='Country', columns='Variety', values='Stars')\n",
        "\n",
        "print(\"Shape matriks training user-item:\", train_matrix.shape)\n",
        "train_matrix.head()\n"
      ],
      "metadata": {
        "colab": {
          "base_uri": "https://localhost:8080/",
          "height": 425
        },
        "id": "UZLauk9G9WxO",
        "outputId": "e6dd2264-4640-4a5b-94c9-46901268d794"
      },
      "execution_count": 79,
      "outputs": [
        {
          "output_type": "stream",
          "name": "stdout",
          "text": [
            "Shape matriks training user-item: (38, 1944)\n"
          ]
        },
        {
          "output_type": "execute_result",
          "data": {
            "text/plain": [
              "Variety     \"A\" Series Artificial Hot Beef  \"A\" Series Vegetarian  \\\n",
              "Country                                                             \n",
              "Australia                              NaN                    NaN   \n",
              "Bangladesh                             NaN                    NaN   \n",
              "Brazil                                 NaN                    NaN   \n",
              "Cambodia                               NaN                    NaN   \n",
              "Canada                                 NaN                    NaN   \n",
              "\n",
              "Variety     1 Step-1 Minute Asian Noodles Kung Pao  \\\n",
              "Country                                              \n",
              "Australia                                      NaN   \n",
              "Bangladesh                                     NaN   \n",
              "Brazil                                         NaN   \n",
              "Cambodia                                       NaN   \n",
              "Canada                                         NaN   \n",
              "\n",
              "Variety     1 Step-1 Minute Asian Noodles Lemongrass Ginger  \\\n",
              "Country                                                       \n",
              "Australia                                               NaN   \n",
              "Bangladesh                                              NaN   \n",
              "Brazil                                                  NaN   \n",
              "Cambodia                                                NaN   \n",
              "Canada                                                  NaN   \n",
              "\n",
              "Variety     1 Step-1 Minute Asian Noodles Mushroom Lo Mein  \\\n",
              "Country                                                      \n",
              "Australia                                              NaN   \n",
              "Bangladesh                                             NaN   \n",
              "Brazil                                                 NaN   \n",
              "Cambodia                                               NaN   \n",
              "Canada                                                 NaN   \n",
              "\n",
              "Variety     1 Step-1 Minute Asian Noodles Thai Basil  \\\n",
              "Country                                                \n",
              "Australia                                        NaN   \n",
              "Bangladesh                                       NaN   \n",
              "Brazil                                           NaN   \n",
              "Cambodia                                         NaN   \n",
              "Canada                                           NaN   \n",
              "\n",
              "Variety     1 Step-1 Minute Asian Noodles Toasted Sesame  \\\n",
              "Country                                                    \n",
              "Australia                                            NaN   \n",
              "Bangladesh                                           NaN   \n",
              "Brazil                                               NaN   \n",
              "Cambodia                                             NaN   \n",
              "Canada                                               NaN   \n",
              "\n",
              "Variety     100 Artificial Shallot Chicken  100 Artificial Spicy Beef  \\\n",
              "Country                                                                 \n",
              "Australia                              NaN                        NaN   \n",
              "Bangladesh                             NaN                        NaN   \n",
              "Brazil                                 NaN                        NaN   \n",
              "Cambodia                               NaN                        NaN   \n",
              "Canada                                 NaN                        NaN   \n",
              "\n",
              "Variety     100 Artificial Stewed Pork Chop  ...  \\\n",
              "Country                                      ...   \n",
              "Australia                               NaN  ...   \n",
              "Bangladesh                              NaN  ...   \n",
              "Brazil                                  NaN  ...   \n",
              "Cambodia                                NaN  ...   \n",
              "Canada                                  NaN  ...   \n",
              "\n",
              "Variety     Yummy Spicy Rice Soup With Seafood  Yuzu Sesame Sauce Udon  \\\n",
              "Country                                                                  \n",
              "Australia                                  NaN                     NaN   \n",
              "Bangladesh                                 NaN                     NaN   \n",
              "Brazil                                     NaN                     NaN   \n",
              "Cambodia                                   NaN                     NaN   \n",
              "Canada                                     NaN                     NaN   \n",
              "\n",
              "Variety     Zan Vegetarian Instant Noodle Series Shiitake Mushroom Flavour  \\\n",
              "Country                                                                      \n",
              "Australia                                                 NaN                \n",
              "Bangladesh                                                NaN                \n",
              "Brazil                                                    NaN                \n",
              "Cambodia                                                  NaN                \n",
              "Canada                                                    NaN                \n",
              "\n",
              "Variety     Zha Wang ((Jjawang) Noodles With Chajang Sauce  Zurek  chicken  \\\n",
              "Country                                                                      \n",
              "Australia                                              NaN    NaN      NaN   \n",
              "Bangladesh                                             NaN    NaN      NaN   \n",
              "Brazil                                                 NaN    NaN      NaN   \n",
              "Cambodia                                               NaN    NaN      NaN   \n",
              "Canada                                                 NaN    NaN      NaN   \n",
              "\n",
              "Variety     dried Mix Noodles Soya Bean Paste  \\\n",
              "Country                                         \n",
              "Australia                                 NaN   \n",
              "Bangladesh                                NaN   \n",
              "Brazil                                    NaN   \n",
              "Cambodia                                  NaN   \n",
              "Canada                                    NaN   \n",
              "\n",
              "Variety     spicy Pad Thai Instant Noodles & Sauce  \\\n",
              "Country                                              \n",
              "Australia                                      NaN   \n",
              "Bangladesh                                     NaN   \n",
              "Brazil                                         NaN   \n",
              "Cambodia                                       NaN   \n",
              "Canada                                         NaN   \n",
              "\n",
              "Variety     ДОШИРАК (Dosirac) Beef Flavor  \\\n",
              "Country                                     \n",
              "Australia                             NaN   \n",
              "Bangladesh                            NaN   \n",
              "Brazil                                NaN   \n",
              "Cambodia                              NaN   \n",
              "Canada                                NaN   \n",
              "\n",
              "Variety     三養라면 (Samyang Ramyun) (South Korean Version)  \n",
              "Country                                                   \n",
              "Australia                                            NaN  \n",
              "Bangladesh                                           NaN  \n",
              "Brazil                                               NaN  \n",
              "Cambodia                                             NaN  \n",
              "Canada                                               NaN  \n",
              "\n",
              "[5 rows x 1944 columns]"
            ],
            "text/html": [
              "\n",
              "  <div id=\"df-676396ac-356b-47ac-833d-476007dc4542\" class=\"colab-df-container\">\n",
              "    <div>\n",
              "<style scoped>\n",
              "    .dataframe tbody tr th:only-of-type {\n",
              "        vertical-align: middle;\n",
              "    }\n",
              "\n",
              "    .dataframe tbody tr th {\n",
              "        vertical-align: top;\n",
              "    }\n",
              "\n",
              "    .dataframe thead th {\n",
              "        text-align: right;\n",
              "    }\n",
              "</style>\n",
              "<table border=\"1\" class=\"dataframe\">\n",
              "  <thead>\n",
              "    <tr style=\"text-align: right;\">\n",
              "      <th>Variety</th>\n",
              "      <th>\"A\" Series Artificial Hot Beef</th>\n",
              "      <th>\"A\" Series Vegetarian</th>\n",
              "      <th>1 Step-1 Minute Asian Noodles Kung Pao</th>\n",
              "      <th>1 Step-1 Minute Asian Noodles Lemongrass Ginger</th>\n",
              "      <th>1 Step-1 Minute Asian Noodles Mushroom Lo Mein</th>\n",
              "      <th>1 Step-1 Minute Asian Noodles Thai Basil</th>\n",
              "      <th>1 Step-1 Minute Asian Noodles Toasted Sesame</th>\n",
              "      <th>100 Artificial Shallot Chicken</th>\n",
              "      <th>100 Artificial Spicy Beef</th>\n",
              "      <th>100 Artificial Stewed Pork Chop</th>\n",
              "      <th>...</th>\n",
              "      <th>Yummy Spicy Rice Soup With Seafood</th>\n",
              "      <th>Yuzu Sesame Sauce Udon</th>\n",
              "      <th>Zan Vegetarian Instant Noodle Series Shiitake Mushroom Flavour</th>\n",
              "      <th>Zha Wang ((Jjawang) Noodles With Chajang Sauce</th>\n",
              "      <th>Zurek</th>\n",
              "      <th>chicken</th>\n",
              "      <th>dried Mix Noodles Soya Bean Paste</th>\n",
              "      <th>spicy Pad Thai Instant Noodles &amp; Sauce</th>\n",
              "      <th>ДОШИРАК (Dosirac) Beef Flavor</th>\n",
              "      <th>三養라면 (Samyang Ramyun) (South Korean Version)</th>\n",
              "    </tr>\n",
              "    <tr>\n",
              "      <th>Country</th>\n",
              "      <th></th>\n",
              "      <th></th>\n",
              "      <th></th>\n",
              "      <th></th>\n",
              "      <th></th>\n",
              "      <th></th>\n",
              "      <th></th>\n",
              "      <th></th>\n",
              "      <th></th>\n",
              "      <th></th>\n",
              "      <th></th>\n",
              "      <th></th>\n",
              "      <th></th>\n",
              "      <th></th>\n",
              "      <th></th>\n",
              "      <th></th>\n",
              "      <th></th>\n",
              "      <th></th>\n",
              "      <th></th>\n",
              "      <th></th>\n",
              "      <th></th>\n",
              "    </tr>\n",
              "  </thead>\n",
              "  <tbody>\n",
              "    <tr>\n",
              "      <th>Australia</th>\n",
              "      <td>NaN</td>\n",
              "      <td>NaN</td>\n",
              "      <td>NaN</td>\n",
              "      <td>NaN</td>\n",
              "      <td>NaN</td>\n",
              "      <td>NaN</td>\n",
              "      <td>NaN</td>\n",
              "      <td>NaN</td>\n",
              "      <td>NaN</td>\n",
              "      <td>NaN</td>\n",
              "      <td>...</td>\n",
              "      <td>NaN</td>\n",
              "      <td>NaN</td>\n",
              "      <td>NaN</td>\n",
              "      <td>NaN</td>\n",
              "      <td>NaN</td>\n",
              "      <td>NaN</td>\n",
              "      <td>NaN</td>\n",
              "      <td>NaN</td>\n",
              "      <td>NaN</td>\n",
              "      <td>NaN</td>\n",
              "    </tr>\n",
              "    <tr>\n",
              "      <th>Bangladesh</th>\n",
              "      <td>NaN</td>\n",
              "      <td>NaN</td>\n",
              "      <td>NaN</td>\n",
              "      <td>NaN</td>\n",
              "      <td>NaN</td>\n",
              "      <td>NaN</td>\n",
              "      <td>NaN</td>\n",
              "      <td>NaN</td>\n",
              "      <td>NaN</td>\n",
              "      <td>NaN</td>\n",
              "      <td>...</td>\n",
              "      <td>NaN</td>\n",
              "      <td>NaN</td>\n",
              "      <td>NaN</td>\n",
              "      <td>NaN</td>\n",
              "      <td>NaN</td>\n",
              "      <td>NaN</td>\n",
              "      <td>NaN</td>\n",
              "      <td>NaN</td>\n",
              "      <td>NaN</td>\n",
              "      <td>NaN</td>\n",
              "    </tr>\n",
              "    <tr>\n",
              "      <th>Brazil</th>\n",
              "      <td>NaN</td>\n",
              "      <td>NaN</td>\n",
              "      <td>NaN</td>\n",
              "      <td>NaN</td>\n",
              "      <td>NaN</td>\n",
              "      <td>NaN</td>\n",
              "      <td>NaN</td>\n",
              "      <td>NaN</td>\n",
              "      <td>NaN</td>\n",
              "      <td>NaN</td>\n",
              "      <td>...</td>\n",
              "      <td>NaN</td>\n",
              "      <td>NaN</td>\n",
              "      <td>NaN</td>\n",
              "      <td>NaN</td>\n",
              "      <td>NaN</td>\n",
              "      <td>NaN</td>\n",
              "      <td>NaN</td>\n",
              "      <td>NaN</td>\n",
              "      <td>NaN</td>\n",
              "      <td>NaN</td>\n",
              "    </tr>\n",
              "    <tr>\n",
              "      <th>Cambodia</th>\n",
              "      <td>NaN</td>\n",
              "      <td>NaN</td>\n",
              "      <td>NaN</td>\n",
              "      <td>NaN</td>\n",
              "      <td>NaN</td>\n",
              "      <td>NaN</td>\n",
              "      <td>NaN</td>\n",
              "      <td>NaN</td>\n",
              "      <td>NaN</td>\n",
              "      <td>NaN</td>\n",
              "      <td>...</td>\n",
              "      <td>NaN</td>\n",
              "      <td>NaN</td>\n",
              "      <td>NaN</td>\n",
              "      <td>NaN</td>\n",
              "      <td>NaN</td>\n",
              "      <td>NaN</td>\n",
              "      <td>NaN</td>\n",
              "      <td>NaN</td>\n",
              "      <td>NaN</td>\n",
              "      <td>NaN</td>\n",
              "    </tr>\n",
              "    <tr>\n",
              "      <th>Canada</th>\n",
              "      <td>NaN</td>\n",
              "      <td>NaN</td>\n",
              "      <td>NaN</td>\n",
              "      <td>NaN</td>\n",
              "      <td>NaN</td>\n",
              "      <td>NaN</td>\n",
              "      <td>NaN</td>\n",
              "      <td>NaN</td>\n",
              "      <td>NaN</td>\n",
              "      <td>NaN</td>\n",
              "      <td>...</td>\n",
              "      <td>NaN</td>\n",
              "      <td>NaN</td>\n",
              "      <td>NaN</td>\n",
              "      <td>NaN</td>\n",
              "      <td>NaN</td>\n",
              "      <td>NaN</td>\n",
              "      <td>NaN</td>\n",
              "      <td>NaN</td>\n",
              "      <td>NaN</td>\n",
              "      <td>NaN</td>\n",
              "    </tr>\n",
              "  </tbody>\n",
              "</table>\n",
              "<p>5 rows × 1944 columns</p>\n",
              "</div>\n",
              "    <div class=\"colab-df-buttons\">\n",
              "\n",
              "  <div class=\"colab-df-container\">\n",
              "    <button class=\"colab-df-convert\" onclick=\"convertToInteractive('df-676396ac-356b-47ac-833d-476007dc4542')\"\n",
              "            title=\"Convert this dataframe to an interactive table.\"\n",
              "            style=\"display:none;\">\n",
              "\n",
              "  <svg xmlns=\"http://www.w3.org/2000/svg\" height=\"24px\" viewBox=\"0 -960 960 960\">\n",
              "    <path d=\"M120-120v-720h720v720H120Zm60-500h600v-160H180v160Zm220 220h160v-160H400v160Zm0 220h160v-160H400v160ZM180-400h160v-160H180v160Zm440 0h160v-160H620v160ZM180-180h160v-160H180v160Zm440 0h160v-160H620v160Z\"/>\n",
              "  </svg>\n",
              "    </button>\n",
              "\n",
              "  <style>\n",
              "    .colab-df-container {\n",
              "      display:flex;\n",
              "      gap: 12px;\n",
              "    }\n",
              "\n",
              "    .colab-df-convert {\n",
              "      background-color: #E8F0FE;\n",
              "      border: none;\n",
              "      border-radius: 50%;\n",
              "      cursor: pointer;\n",
              "      display: none;\n",
              "      fill: #1967D2;\n",
              "      height: 32px;\n",
              "      padding: 0 0 0 0;\n",
              "      width: 32px;\n",
              "    }\n",
              "\n",
              "    .colab-df-convert:hover {\n",
              "      background-color: #E2EBFA;\n",
              "      box-shadow: 0px 1px 2px rgba(60, 64, 67, 0.3), 0px 1px 3px 1px rgba(60, 64, 67, 0.15);\n",
              "      fill: #174EA6;\n",
              "    }\n",
              "\n",
              "    .colab-df-buttons div {\n",
              "      margin-bottom: 4px;\n",
              "    }\n",
              "\n",
              "    [theme=dark] .colab-df-convert {\n",
              "      background-color: #3B4455;\n",
              "      fill: #D2E3FC;\n",
              "    }\n",
              "\n",
              "    [theme=dark] .colab-df-convert:hover {\n",
              "      background-color: #434B5C;\n",
              "      box-shadow: 0px 1px 3px 1px rgba(0, 0, 0, 0.15);\n",
              "      filter: drop-shadow(0px 1px 2px rgba(0, 0, 0, 0.3));\n",
              "      fill: #FFFFFF;\n",
              "    }\n",
              "  </style>\n",
              "\n",
              "    <script>\n",
              "      const buttonEl =\n",
              "        document.querySelector('#df-676396ac-356b-47ac-833d-476007dc4542 button.colab-df-convert');\n",
              "      buttonEl.style.display =\n",
              "        google.colab.kernel.accessAllowed ? 'block' : 'none';\n",
              "\n",
              "      async function convertToInteractive(key) {\n",
              "        const element = document.querySelector('#df-676396ac-356b-47ac-833d-476007dc4542');\n",
              "        const dataTable =\n",
              "          await google.colab.kernel.invokeFunction('convertToInteractive',\n",
              "                                                    [key], {});\n",
              "        if (!dataTable) return;\n",
              "\n",
              "        const docLinkHtml = 'Like what you see? Visit the ' +\n",
              "          '<a target=\"_blank\" href=https://colab.research.google.com/notebooks/data_table.ipynb>data table notebook</a>'\n",
              "          + ' to learn more about interactive tables.';\n",
              "        element.innerHTML = '';\n",
              "        dataTable['output_type'] = 'display_data';\n",
              "        await google.colab.output.renderOutput(dataTable, element);\n",
              "        const docLink = document.createElement('div');\n",
              "        docLink.innerHTML = docLinkHtml;\n",
              "        element.appendChild(docLink);\n",
              "      }\n",
              "    </script>\n",
              "  </div>\n",
              "\n",
              "\n",
              "    <div id=\"df-71ebe40a-f89b-45a6-b3d8-885df496c650\">\n",
              "      <button class=\"colab-df-quickchart\" onclick=\"quickchart('df-71ebe40a-f89b-45a6-b3d8-885df496c650')\"\n",
              "                title=\"Suggest charts\"\n",
              "                style=\"display:none;\">\n",
              "\n",
              "<svg xmlns=\"http://www.w3.org/2000/svg\" height=\"24px\"viewBox=\"0 0 24 24\"\n",
              "     width=\"24px\">\n",
              "    <g>\n",
              "        <path d=\"M19 3H5c-1.1 0-2 .9-2 2v14c0 1.1.9 2 2 2h14c1.1 0 2-.9 2-2V5c0-1.1-.9-2-2-2zM9 17H7v-7h2v7zm4 0h-2V7h2v10zm4 0h-2v-4h2v4z\"/>\n",
              "    </g>\n",
              "</svg>\n",
              "      </button>\n",
              "\n",
              "<style>\n",
              "  .colab-df-quickchart {\n",
              "      --bg-color: #E8F0FE;\n",
              "      --fill-color: #1967D2;\n",
              "      --hover-bg-color: #E2EBFA;\n",
              "      --hover-fill-color: #174EA6;\n",
              "      --disabled-fill-color: #AAA;\n",
              "      --disabled-bg-color: #DDD;\n",
              "  }\n",
              "\n",
              "  [theme=dark] .colab-df-quickchart {\n",
              "      --bg-color: #3B4455;\n",
              "      --fill-color: #D2E3FC;\n",
              "      --hover-bg-color: #434B5C;\n",
              "      --hover-fill-color: #FFFFFF;\n",
              "      --disabled-bg-color: #3B4455;\n",
              "      --disabled-fill-color: #666;\n",
              "  }\n",
              "\n",
              "  .colab-df-quickchart {\n",
              "    background-color: var(--bg-color);\n",
              "    border: none;\n",
              "    border-radius: 50%;\n",
              "    cursor: pointer;\n",
              "    display: none;\n",
              "    fill: var(--fill-color);\n",
              "    height: 32px;\n",
              "    padding: 0;\n",
              "    width: 32px;\n",
              "  }\n",
              "\n",
              "  .colab-df-quickchart:hover {\n",
              "    background-color: var(--hover-bg-color);\n",
              "    box-shadow: 0 1px 2px rgba(60, 64, 67, 0.3), 0 1px 3px 1px rgba(60, 64, 67, 0.15);\n",
              "    fill: var(--button-hover-fill-color);\n",
              "  }\n",
              "\n",
              "  .colab-df-quickchart-complete:disabled,\n",
              "  .colab-df-quickchart-complete:disabled:hover {\n",
              "    background-color: var(--disabled-bg-color);\n",
              "    fill: var(--disabled-fill-color);\n",
              "    box-shadow: none;\n",
              "  }\n",
              "\n",
              "  .colab-df-spinner {\n",
              "    border: 2px solid var(--fill-color);\n",
              "    border-color: transparent;\n",
              "    border-bottom-color: var(--fill-color);\n",
              "    animation:\n",
              "      spin 1s steps(1) infinite;\n",
              "  }\n",
              "\n",
              "  @keyframes spin {\n",
              "    0% {\n",
              "      border-color: transparent;\n",
              "      border-bottom-color: var(--fill-color);\n",
              "      border-left-color: var(--fill-color);\n",
              "    }\n",
              "    20% {\n",
              "      border-color: transparent;\n",
              "      border-left-color: var(--fill-color);\n",
              "      border-top-color: var(--fill-color);\n",
              "    }\n",
              "    30% {\n",
              "      border-color: transparent;\n",
              "      border-left-color: var(--fill-color);\n",
              "      border-top-color: var(--fill-color);\n",
              "      border-right-color: var(--fill-color);\n",
              "    }\n",
              "    40% {\n",
              "      border-color: transparent;\n",
              "      border-right-color: var(--fill-color);\n",
              "      border-top-color: var(--fill-color);\n",
              "    }\n",
              "    60% {\n",
              "      border-color: transparent;\n",
              "      border-right-color: var(--fill-color);\n",
              "    }\n",
              "    80% {\n",
              "      border-color: transparent;\n",
              "      border-right-color: var(--fill-color);\n",
              "      border-bottom-color: var(--fill-color);\n",
              "    }\n",
              "    90% {\n",
              "      border-color: transparent;\n",
              "      border-bottom-color: var(--fill-color);\n",
              "    }\n",
              "  }\n",
              "</style>\n",
              "\n",
              "      <script>\n",
              "        async function quickchart(key) {\n",
              "          const quickchartButtonEl =\n",
              "            document.querySelector('#' + key + ' button');\n",
              "          quickchartButtonEl.disabled = true;  // To prevent multiple clicks.\n",
              "          quickchartButtonEl.classList.add('colab-df-spinner');\n",
              "          try {\n",
              "            const charts = await google.colab.kernel.invokeFunction(\n",
              "                'suggestCharts', [key], {});\n",
              "          } catch (error) {\n",
              "            console.error('Error during call to suggestCharts:', error);\n",
              "          }\n",
              "          quickchartButtonEl.classList.remove('colab-df-spinner');\n",
              "          quickchartButtonEl.classList.add('colab-df-quickchart-complete');\n",
              "        }\n",
              "        (() => {\n",
              "          let quickchartButtonEl =\n",
              "            document.querySelector('#df-71ebe40a-f89b-45a6-b3d8-885df496c650 button');\n",
              "          quickchartButtonEl.style.display =\n",
              "            google.colab.kernel.accessAllowed ? 'block' : 'none';\n",
              "        })();\n",
              "      </script>\n",
              "    </div>\n",
              "\n",
              "    </div>\n",
              "  </div>\n"
            ],
            "application/vnd.google.colaboratory.intrinsic+json": {
              "type": "dataframe",
              "variable_name": "train_matrix"
            }
          },
          "metadata": {},
          "execution_count": 79
        }
      ]
    },
    {
      "cell_type": "markdown",
      "source": [
        "## Hitung similarity antar user\n",
        "Untuk membuat rekomendasi berbasis user (User-Based Collaborative Filtering), kita hitung similarity antar user menggunakan cosine similarity dengan mengisi nilai NaN menjadi 0."
      ],
      "metadata": {
        "id": "alQ3TZd-9lwY"
      }
    },
    {
      "cell_type": "code",
      "source": [
        "from sklearn.metrics.pairwise import pairwise_distances\n",
        "import numpy as np\n",
        "\n",
        "# Isi NaN dengan 0 untuk hitung similarity\n",
        "train_matrix_filled = train_matrix.fillna(0)\n",
        "\n",
        "# Hitung cosine similarity antar user (Country)\n",
        "user_similarity = 1 - pairwise_distances(train_matrix_filled, metric='cosine')\n",
        "\n",
        "print(\"Shape matriks similarity user:\", user_similarity.shape)\n"
      ],
      "metadata": {
        "colab": {
          "base_uri": "https://localhost:8080/"
        },
        "id": "-tMmLiep9jO5",
        "outputId": "800caec1-b39e-46f6-86a1-2f883366c409"
      },
      "execution_count": 80,
      "outputs": [
        {
          "output_type": "stream",
          "name": "stdout",
          "text": [
            "Shape matriks similarity user: (38, 38)\n"
          ]
        }
      ]
    },
    {
      "cell_type": "markdown",
      "source": [
        "## Fungsi Rekomendasi Collaborative Filtering"
      ],
      "metadata": {
        "id": "nQxMrLzh97JN"
      }
    },
    {
      "cell_type": "code",
      "source": [
        "def recommend_ramen_collaborative(user_id, user_similarity=user_similarity, train_matrix=train_matrix):\n",
        "    if user_id not in train_matrix.index:\n",
        "        return f\"User '{user_id}' tidak ditemukan dalam data training.\"\n",
        "\n",
        "    # Ambil indeks user\n",
        "    user_idx = train_matrix.index.get_loc(user_id)\n",
        "\n",
        "    # Ambil skor similarity user terhadap user lain\n",
        "    sim_scores = list(enumerate(user_similarity[user_idx]))\n",
        "\n",
        "    # Urutkan berdasarkan similarity tertinggi (kecuali diri sendiri)\n",
        "    sim_scores = sorted(sim_scores, key=lambda x: x[1], reverse=True)\n",
        "    sim_scores = [x for x in sim_scores if x[0] != user_idx]\n",
        "\n",
        "    # Ambil 10 user paling mirip\n",
        "    top_users = [train_matrix.index[i[0]] for i in sim_scores[:10]]\n",
        "\n",
        "    # Ambil ramen yang user belum rating\n",
        "    user_rated = train_matrix.loc[user_id].dropna().index.tolist()\n",
        "\n",
        "    # Rata-rata rating ramen dari user mirip yang belum dicoba user_id\n",
        "    candidate_ratings = train_matrix.loc[top_users].mean(axis=0).dropna()\n",
        "    candidate_ratings = candidate_ratings.drop(user_rated, errors='ignore')\n",
        "\n",
        "    # Urutkan dan ambil 10 rekomendasi teratas\n",
        "    recommendations = candidate_ratings.sort_values(ascending=False).head(10)\n",
        "\n",
        "    result = pd.DataFrame({\n",
        "        'Ramen': recommendations.index,\n",
        "        'Predicted Rating': recommendations.values\n",
        "    })\n",
        "\n",
        "    return result.reset_index(drop=True)\n"
      ],
      "metadata": {
        "id": "Lyrjl14W9z1s"
      },
      "execution_count": 81,
      "outputs": []
    },
    {
      "cell_type": "code",
      "source": [
        "sample_user = train_matrix.index[0]  # ambil user pertama sebagai contoh\n",
        "print(f\"Rekomendasi ramen untuk user '{sample_user}':\")\n",
        "print(recommend_ramen_collaborative(sample_user))\n"
      ],
      "metadata": {
        "colab": {
          "base_uri": "https://localhost:8080/"
        },
        "id": "M2e7AuKq9_rs",
        "outputId": "49a204b3-126b-49d0-98c5-4c1d4a645b4b"
      },
      "execution_count": 82,
      "outputs": [
        {
          "output_type": "stream",
          "name": "stdout",
          "text": [
            "Rekomendasi ramen untuk user 'Australia':\n",
            "                                               Ramen  Predicted Rating\n",
            "0                                 Spicy Black Pepper               5.0\n",
            "1  Sour Soup & Minced Meat Flavor Chef's Grain Na...               5.0\n",
            "2                               Straits Reborn Laksa               5.0\n",
            "3                              Straits Kitchen Laksa               5.0\n",
            "4               Spicy King Bowl Noodle Spicy Chicken               5.0\n",
            "5                              Spicy King Spicy Beef               5.0\n",
            "6          Chow Mein Japanese Style Noodles Yakisoba               5.0\n",
            "7                 Chongqing Noodles Spicy Hot Flavor               5.0\n",
            "8     Creamy Soup Witrh Crushed Noodles Curry Flavor               5.0\n",
            "9  Creamy Soup With Crushed Noodles Sweet Corn Fl...               5.0\n"
          ]
        }
      ]
    }
  ]
}